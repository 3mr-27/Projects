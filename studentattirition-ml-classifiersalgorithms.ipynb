{
 "cells": [
  {
   "cell_type": "code",
   "execution_count": 1,
   "id": "e383a9c0",
   "metadata": {
    "_cell_guid": "b1076dfc-b9ad-4769-8c92-a6c4dae69d19",
    "_uuid": "8f2839f25d086af736a60e9eeb907d3b93b6e0e5",
    "execution": {
     "iopub.execute_input": "2024-12-12T11:37:49.744009Z",
     "iopub.status.busy": "2024-12-12T11:37:49.742792Z",
     "iopub.status.idle": "2024-12-12T11:37:50.703357Z",
     "shell.execute_reply": "2024-12-12T11:37:50.702059Z"
    },
    "papermill": {
     "duration": 0.972155,
     "end_time": "2024-12-12T11:37:50.706301",
     "exception": false,
     "start_time": "2024-12-12T11:37:49.734146",
     "status": "completed"
    },
    "tags": []
   },
   "outputs": [],
   "source": [
    "import pandas as pd"
   ]
  },
  {
   "cell_type": "code",
   "execution_count": 2,
   "id": "37350bda",
   "metadata": {
    "execution": {
     "iopub.execute_input": "2024-12-12T11:37:50.721441Z",
     "iopub.status.busy": "2024-12-12T11:37:50.720891Z",
     "iopub.status.idle": "2024-12-12T11:37:52.959164Z",
     "shell.execute_reply": "2024-12-12T11:37:52.957803Z"
    },
    "papermill": {
     "duration": 2.248701,
     "end_time": "2024-12-12T11:37:52.961775",
     "exception": false,
     "start_time": "2024-12-12T11:37:50.713074",
     "status": "completed"
    },
    "tags": []
   },
   "outputs": [],
   "source": [
    "#load tha data\n",
    "data = pd.read_excel('/kaggle/input/student-admissions-data-for-a-university/UnivData1.xlsx')"
   ]
  },
  {
   "cell_type": "markdown",
   "id": "0923c7f7",
   "metadata": {
    "papermill": {
     "duration": 0.006399,
     "end_time": "2024-12-12T11:37:52.974898",
     "exception": false,
     "start_time": "2024-12-12T11:37:52.968499",
     "status": "completed"
    },
    "tags": []
   },
   "source": [
    "# ERD"
   ]
  },
  {
   "cell_type": "code",
   "execution_count": 3,
   "id": "51066174",
   "metadata": {
    "execution": {
     "iopub.execute_input": "2024-12-12T11:37:52.990609Z",
     "iopub.status.busy": "2024-12-12T11:37:52.990119Z",
     "iopub.status.idle": "2024-12-12T11:37:53.030080Z",
     "shell.execute_reply": "2024-12-12T11:37:53.028888Z"
    },
    "papermill": {
     "duration": 0.049812,
     "end_time": "2024-12-12T11:37:53.032433",
     "exception": false,
     "start_time": "2024-12-12T11:37:52.982621",
     "status": "completed"
    },
    "tags": []
   },
   "outputs": [
    {
     "data": {
      "text/html": [
       "<div>\n",
       "<style scoped>\n",
       "    .dataframe tbody tr th:only-of-type {\n",
       "        vertical-align: middle;\n",
       "    }\n",
       "\n",
       "    .dataframe tbody tr th {\n",
       "        vertical-align: top;\n",
       "    }\n",
       "\n",
       "    .dataframe thead th {\n",
       "        text-align: right;\n",
       "    }\n",
       "</style>\n",
       "<table border=\"1\" class=\"dataframe\">\n",
       "  <thead>\n",
       "    <tr style=\"text-align: right;\">\n",
       "      <th></th>\n",
       "      <th>STUDENT IDENTIFIER</th>\n",
       "      <th>STDNT_AGE</th>\n",
       "      <th>STDNT_GENDER</th>\n",
       "      <th>STDNT_BACKGROUND</th>\n",
       "      <th>IN_STATE_FLAG</th>\n",
       "      <th>INTERNATIONAL_STS</th>\n",
       "      <th>STDNT_MAJOR</th>\n",
       "      <th>STDNT_MINOR</th>\n",
       "      <th>STDNT_TEST_ENTRANCE1</th>\n",
       "      <th>STDNT_TEST_ENTRANCE2</th>\n",
       "      <th>...</th>\n",
       "      <th>DEGREE_GROUP_CD</th>\n",
       "      <th>DEGREE_GROUP_DESC</th>\n",
       "      <th>FIRST_TERM_ATTEMPT_HRS</th>\n",
       "      <th>FIRST_TERM_EARNED_HRS</th>\n",
       "      <th>SECOND_TERM_ATTEMPT_HRS</th>\n",
       "      <th>SECOND_TERM_EARNED_HRS</th>\n",
       "      <th>GROSS_FIN_NEED</th>\n",
       "      <th>COST_OF_ATTEND</th>\n",
       "      <th>EST_FAM_CONTRIBUTION</th>\n",
       "      <th>UNMET_NEED</th>\n",
       "    </tr>\n",
       "  </thead>\n",
       "  <tbody>\n",
       "    <tr>\n",
       "      <th>0</th>\n",
       "      <td>7808615</td>\n",
       "      <td>18</td>\n",
       "      <td>F</td>\n",
       "      <td>BGD 1</td>\n",
       "      <td>Y</td>\n",
       "      <td>N</td>\n",
       "      <td>Undeclared</td>\n",
       "      <td>N</td>\n",
       "      <td>NaN</td>\n",
       "      <td>1150.0</td>\n",
       "      <td>...</td>\n",
       "      <td>B</td>\n",
       "      <td>Bachelors</td>\n",
       "      <td>16</td>\n",
       "      <td>16</td>\n",
       "      <td>14.0</td>\n",
       "      <td>14.0</td>\n",
       "      <td>0</td>\n",
       "      <td>0</td>\n",
       "      <td>0</td>\n",
       "      <td>0.0</td>\n",
       "    </tr>\n",
       "    <tr>\n",
       "      <th>1</th>\n",
       "      <td>7830063</td>\n",
       "      <td>19</td>\n",
       "      <td>F</td>\n",
       "      <td>BGD 1</td>\n",
       "      <td>N</td>\n",
       "      <td>N</td>\n",
       "      <td>Undeclared</td>\n",
       "      <td>N</td>\n",
       "      <td>26.0</td>\n",
       "      <td>NaN</td>\n",
       "      <td>...</td>\n",
       "      <td>B</td>\n",
       "      <td>Bachelors</td>\n",
       "      <td>18</td>\n",
       "      <td>18</td>\n",
       "      <td>18.0</td>\n",
       "      <td>18.0</td>\n",
       "      <td>570000</td>\n",
       "      <td>1355760</td>\n",
       "      <td>785760</td>\n",
       "      <td>459300.0</td>\n",
       "    </tr>\n",
       "    <tr>\n",
       "      <th>2</th>\n",
       "      <td>7847538</td>\n",
       "      <td>18</td>\n",
       "      <td>M</td>\n",
       "      <td>BGD 1</td>\n",
       "      <td>Y</td>\n",
       "      <td>N</td>\n",
       "      <td>Mathematics</td>\n",
       "      <td>N</td>\n",
       "      <td>NaN</td>\n",
       "      <td>1020.0</td>\n",
       "      <td>...</td>\n",
       "      <td>B</td>\n",
       "      <td>Bachelors</td>\n",
       "      <td>15</td>\n",
       "      <td>15</td>\n",
       "      <td>14.0</td>\n",
       "      <td>14.0</td>\n",
       "      <td>0</td>\n",
       "      <td>0</td>\n",
       "      <td>0</td>\n",
       "      <td>0.0</td>\n",
       "    </tr>\n",
       "    <tr>\n",
       "      <th>3</th>\n",
       "      <td>8006429</td>\n",
       "      <td>18</td>\n",
       "      <td>M</td>\n",
       "      <td>BGD 1</td>\n",
       "      <td>Y</td>\n",
       "      <td>N</td>\n",
       "      <td>Undeclared</td>\n",
       "      <td>N</td>\n",
       "      <td>NaN</td>\n",
       "      <td>1210.0</td>\n",
       "      <td>...</td>\n",
       "      <td>B</td>\n",
       "      <td>Bachelors</td>\n",
       "      <td>13</td>\n",
       "      <td>13</td>\n",
       "      <td>14.0</td>\n",
       "      <td>14.0</td>\n",
       "      <td>0</td>\n",
       "      <td>0</td>\n",
       "      <td>0</td>\n",
       "      <td>0.0</td>\n",
       "    </tr>\n",
       "    <tr>\n",
       "      <th>4</th>\n",
       "      <td>7962680</td>\n",
       "      <td>18</td>\n",
       "      <td>F</td>\n",
       "      <td>BGD 1</td>\n",
       "      <td>Y</td>\n",
       "      <td>N</td>\n",
       "      <td>Art</td>\n",
       "      <td>N</td>\n",
       "      <td>NaN</td>\n",
       "      <td>1200.0</td>\n",
       "      <td>...</td>\n",
       "      <td>B</td>\n",
       "      <td>Bachelors</td>\n",
       "      <td>12</td>\n",
       "      <td>12</td>\n",
       "      <td>12.0</td>\n",
       "      <td>12.0</td>\n",
       "      <td>835920</td>\n",
       "      <td>1355760</td>\n",
       "      <td>519840</td>\n",
       "      <td>278340.0</td>\n",
       "    </tr>\n",
       "  </tbody>\n",
       "</table>\n",
       "<p>5 rows × 56 columns</p>\n",
       "</div>"
      ],
      "text/plain": [
       "   STUDENT IDENTIFIER  STDNT_AGE STDNT_GENDER STDNT_BACKGROUND IN_STATE_FLAG  \\\n",
       "0             7808615         18            F            BGD 1             Y   \n",
       "1             7830063         19            F            BGD 1             N   \n",
       "2             7847538         18            M            BGD 1             Y   \n",
       "3             8006429         18            M            BGD 1             Y   \n",
       "4             7962680         18            F            BGD 1             Y   \n",
       "\n",
       "  INTERNATIONAL_STS  STDNT_MAJOR STDNT_MINOR  STDNT_TEST_ENTRANCE1  \\\n",
       "0                 N   Undeclared           N                   NaN   \n",
       "1                 N   Undeclared           N                  26.0   \n",
       "2                 N  Mathematics           N                   NaN   \n",
       "3                 N   Undeclared           N                   NaN   \n",
       "4                 N          Art           N                   NaN   \n",
       "\n",
       "   STDNT_TEST_ENTRANCE2  ...  DEGREE_GROUP_CD  DEGREE_GROUP_DESC  \\\n",
       "0                1150.0  ...                B          Bachelors   \n",
       "1                   NaN  ...                B          Bachelors   \n",
       "2                1020.0  ...                B          Bachelors   \n",
       "3                1210.0  ...                B          Bachelors   \n",
       "4                1200.0  ...                B          Bachelors   \n",
       "\n",
       "  FIRST_TERM_ATTEMPT_HRS FIRST_TERM_EARNED_HRS SECOND_TERM_ATTEMPT_HRS  \\\n",
       "0                     16                    16                    14.0   \n",
       "1                     18                    18                    18.0   \n",
       "2                     15                    15                    14.0   \n",
       "3                     13                    13                    14.0   \n",
       "4                     12                    12                    12.0   \n",
       "\n",
       "  SECOND_TERM_EARNED_HRS GROSS_FIN_NEED COST_OF_ATTEND EST_FAM_CONTRIBUTION  \\\n",
       "0                   14.0              0              0                    0   \n",
       "1                   18.0         570000        1355760               785760   \n",
       "2                   14.0              0              0                    0   \n",
       "3                   14.0              0              0                    0   \n",
       "4                   12.0         835920        1355760               519840   \n",
       "\n",
       "  UNMET_NEED  \n",
       "0        0.0  \n",
       "1   459300.0  \n",
       "2        0.0  \n",
       "3        0.0  \n",
       "4   278340.0  \n",
       "\n",
       "[5 rows x 56 columns]"
      ]
     },
     "execution_count": 3,
     "metadata": {},
     "output_type": "execute_result"
    }
   ],
   "source": [
    "#show the first 5 rows\n",
    "data.head()"
   ]
  },
  {
   "cell_type": "code",
   "execution_count": 4,
   "id": "57423cdb",
   "metadata": {
    "execution": {
     "iopub.execute_input": "2024-12-12T11:37:53.047624Z",
     "iopub.status.busy": "2024-12-12T11:37:53.047236Z",
     "iopub.status.idle": "2024-12-12T11:37:53.079048Z",
     "shell.execute_reply": "2024-12-12T11:37:53.077850Z"
    },
    "papermill": {
     "duration": 0.04237,
     "end_time": "2024-12-12T11:37:53.081685",
     "exception": false,
     "start_time": "2024-12-12T11:37:53.039315",
     "status": "completed"
    },
    "tags": []
   },
   "outputs": [
    {
     "name": "stdout",
     "output_type": "stream",
     "text": [
      "<class 'pandas.core.frame.DataFrame'>\n",
      "RangeIndex: 3400 entries, 0 to 3399\n",
      "Data columns (total 56 columns):\n",
      " #   Column                    Non-Null Count  Dtype  \n",
      "---  ------                    --------------  -----  \n",
      " 0   STUDENT IDENTIFIER        3400 non-null   int64  \n",
      " 1   STDNT_AGE                 3400 non-null   int64  \n",
      " 2   STDNT_GENDER              3400 non-null   object \n",
      " 3   STDNT_BACKGROUND          3400 non-null   object \n",
      " 4   IN_STATE_FLAG             3400 non-null   object \n",
      " 5   INTERNATIONAL_STS         3400 non-null   object \n",
      " 6   STDNT_MAJOR               3400 non-null   object \n",
      " 7   STDNT_MINOR               3400 non-null   object \n",
      " 8   STDNT_TEST_ENTRANCE1      1106 non-null   float64\n",
      " 9   STDNT_TEST_ENTRANCE2      2492 non-null   float64\n",
      " 10  STDNT_TEST_ENTRANCE_COMB  2882 non-null   float64\n",
      " 11  FIRST_TERM                3400 non-null   int64  \n",
      " 12  CORE_COURSE_NAME_1_F      3400 non-null   object \n",
      " 13  CORE_COURSE_GRADE_1_F     3400 non-null   object \n",
      " 14  CORE_COURSE_NAME_2_F      3301 non-null   object \n",
      " 15  CORE_COURSE_GRADE_2_F     3301 non-null   object \n",
      " 16  CORE_COURSE_NAME_3_F      2835 non-null   object \n",
      " 17  CORE_COURSE_GRADE_3_F     2835 non-null   object \n",
      " 18  CORE_COURSE_NAME_4_F      1803 non-null   object \n",
      " 19  CORE_COURSE_GRADE_4_F     1803 non-null   object \n",
      " 20  CORE_COURSE_NAME_5_F      645 non-null    object \n",
      " 21  CORE_COURSE_GRADE_5_F     645 non-null    object \n",
      " 22  CORE_COURSE_NAME_6_F      128 non-null    object \n",
      " 23  CORE_COURSE_GRADE_6_F     128 non-null    object \n",
      " 24  SECOND_TERM               3400 non-null   int64  \n",
      " 25  CORE_COURSE_NAME_1_S      3243 non-null   object \n",
      " 26  CORE_COURSE_GRADE_1_S     3168 non-null   object \n",
      " 27  CORE_COURSE_NAME_2_S      2961 non-null   object \n",
      " 28  CORE_COURSE_GRADE_2_S     2961 non-null   object \n",
      " 29  CORE_COURSE_NAME_3_S      2362 non-null   object \n",
      " 30  CORE_COURSE_GRADE_3_S     2362 non-null   object \n",
      " 31  CORE_COURSE_NAME_4_S      1355 non-null   object \n",
      " 32  CORE_COURSE_GRADE_4_S     1355 non-null   object \n",
      " 33  CORE_COURSE_NAME_5_S      450 non-null    object \n",
      " 34  CORE_COURSE_GRADE_5_S     450 non-null    object \n",
      " 35  CORE_COURSE_NAME_6_S      81 non-null     object \n",
      " 36  CORE_COURSE_GRADE_6_S     81 non-null     object \n",
      " 37  HOUSING_STS               3400 non-null   object \n",
      " 38  RETURNED_2ND_YR           3400 non-null   int64  \n",
      " 39  DISTANCE_FROM_HOME        3375 non-null   float64\n",
      " 40  HIGH_SCHL_GPA             3347 non-null   float64\n",
      " 41  HIGH_SCHL_NAME            3399 non-null   object \n",
      " 42  FATHER_HI_EDU_CD          2968 non-null   float64\n",
      " 43  FATHER_HI_EDU_DESC        3400 non-null   object \n",
      " 44  MOTHER_HI_EDU_CD          2911 non-null   float64\n",
      " 45  MOTHER_HI_EDU_DESC        3400 non-null   object \n",
      " 46  DEGREE_GROUP_CD           3400 non-null   object \n",
      " 47  DEGREE_GROUP_DESC         3400 non-null   object \n",
      " 48  FIRST_TERM_ATTEMPT_HRS    3400 non-null   int64  \n",
      " 49  FIRST_TERM_EARNED_HRS     3400 non-null   int64  \n",
      " 50  SECOND_TERM_ATTEMPT_HRS   3194 non-null   float64\n",
      " 51  SECOND_TERM_EARNED_HRS    3191 non-null   float64\n",
      " 52  GROSS_FIN_NEED            3400 non-null   int64  \n",
      " 53  COST_OF_ATTEND            3400 non-null   int64  \n",
      " 54  EST_FAM_CONTRIBUTION      3400 non-null   int64  \n",
      " 55  UNMET_NEED                3400 non-null   float64\n",
      "dtypes: float64(10), int64(10), object(36)\n",
      "memory usage: 1.5+ MB\n"
     ]
    }
   ],
   "source": [
    "#show some information about the data\n",
    "data.info()"
   ]
  },
  {
   "cell_type": "code",
   "execution_count": 5,
   "id": "83bc4f0f",
   "metadata": {
    "execution": {
     "iopub.execute_input": "2024-12-12T11:37:53.097605Z",
     "iopub.status.busy": "2024-12-12T11:37:53.097217Z",
     "iopub.status.idle": "2024-12-12T11:37:53.112511Z",
     "shell.execute_reply": "2024-12-12T11:37:53.111162Z"
    },
    "papermill": {
     "duration": 0.026984,
     "end_time": "2024-12-12T11:37:53.115718",
     "exception": false,
     "start_time": "2024-12-12T11:37:53.088734",
     "status": "completed"
    },
    "tags": []
   },
   "outputs": [
    {
     "data": {
      "text/plain": [
       "STUDENT IDENTIFIER             0\n",
       "STDNT_AGE                      0\n",
       "STDNT_GENDER                   0\n",
       "STDNT_BACKGROUND               0\n",
       "IN_STATE_FLAG                  0\n",
       "INTERNATIONAL_STS              0\n",
       "STDNT_MAJOR                    0\n",
       "STDNT_MINOR                    0\n",
       "STDNT_TEST_ENTRANCE1        2294\n",
       "STDNT_TEST_ENTRANCE2         908\n",
       "STDNT_TEST_ENTRANCE_COMB     518\n",
       "FIRST_TERM                     0\n",
       "CORE_COURSE_NAME_1_F           0\n",
       "CORE_COURSE_GRADE_1_F          0\n",
       "CORE_COURSE_NAME_2_F          99\n",
       "CORE_COURSE_GRADE_2_F         99\n",
       "CORE_COURSE_NAME_3_F         565\n",
       "CORE_COURSE_GRADE_3_F        565\n",
       "CORE_COURSE_NAME_4_F        1597\n",
       "CORE_COURSE_GRADE_4_F       1597\n",
       "CORE_COURSE_NAME_5_F        2755\n",
       "CORE_COURSE_GRADE_5_F       2755\n",
       "CORE_COURSE_NAME_6_F        3272\n",
       "CORE_COURSE_GRADE_6_F       3272\n",
       "SECOND_TERM                    0\n",
       "CORE_COURSE_NAME_1_S         157\n",
       "CORE_COURSE_GRADE_1_S        232\n",
       "CORE_COURSE_NAME_2_S         439\n",
       "CORE_COURSE_GRADE_2_S        439\n",
       "CORE_COURSE_NAME_3_S        1038\n",
       "CORE_COURSE_GRADE_3_S       1038\n",
       "CORE_COURSE_NAME_4_S        2045\n",
       "CORE_COURSE_GRADE_4_S       2045\n",
       "CORE_COURSE_NAME_5_S        2950\n",
       "CORE_COURSE_GRADE_5_S       2950\n",
       "CORE_COURSE_NAME_6_S        3319\n",
       "CORE_COURSE_GRADE_6_S       3319\n",
       "HOUSING_STS                    0\n",
       "RETURNED_2ND_YR                0\n",
       "DISTANCE_FROM_HOME            25\n",
       "HIGH_SCHL_GPA                 53\n",
       "HIGH_SCHL_NAME                 1\n",
       "FATHER_HI_EDU_CD             432\n",
       "FATHER_HI_EDU_DESC             0\n",
       "MOTHER_HI_EDU_CD             489\n",
       "MOTHER_HI_EDU_DESC             0\n",
       "DEGREE_GROUP_CD                0\n",
       "DEGREE_GROUP_DESC              0\n",
       "FIRST_TERM_ATTEMPT_HRS         0\n",
       "FIRST_TERM_EARNED_HRS          0\n",
       "SECOND_TERM_ATTEMPT_HRS      206\n",
       "SECOND_TERM_EARNED_HRS       209\n",
       "GROSS_FIN_NEED                 0\n",
       "COST_OF_ATTEND                 0\n",
       "EST_FAM_CONTRIBUTION           0\n",
       "UNMET_NEED                     0\n",
       "dtype: int64"
      ]
     },
     "execution_count": 5,
     "metadata": {},
     "output_type": "execute_result"
    }
   ],
   "source": [
    "#show the Nulls \n",
    "data.isna().sum()"
   ]
  },
  {
   "cell_type": "code",
   "execution_count": 6,
   "id": "274a9412",
   "metadata": {
    "execution": {
     "iopub.execute_input": "2024-12-12T11:37:53.131856Z",
     "iopub.status.busy": "2024-12-12T11:37:53.131481Z",
     "iopub.status.idle": "2024-12-12T11:37:53.195502Z",
     "shell.execute_reply": "2024-12-12T11:37:53.194177Z"
    },
    "papermill": {
     "duration": 0.074901,
     "end_time": "2024-12-12T11:37:53.197826",
     "exception": false,
     "start_time": "2024-12-12T11:37:53.122925",
     "status": "completed"
    },
    "tags": []
   },
   "outputs": [
    {
     "data": {
      "text/html": [
       "<div>\n",
       "<style scoped>\n",
       "    .dataframe tbody tr th:only-of-type {\n",
       "        vertical-align: middle;\n",
       "    }\n",
       "\n",
       "    .dataframe tbody tr th {\n",
       "        vertical-align: top;\n",
       "    }\n",
       "\n",
       "    .dataframe thead th {\n",
       "        text-align: right;\n",
       "    }\n",
       "</style>\n",
       "<table border=\"1\" class=\"dataframe\">\n",
       "  <thead>\n",
       "    <tr style=\"text-align: right;\">\n",
       "      <th></th>\n",
       "      <th>STUDENT IDENTIFIER</th>\n",
       "      <th>STDNT_AGE</th>\n",
       "      <th>STDNT_TEST_ENTRANCE1</th>\n",
       "      <th>STDNT_TEST_ENTRANCE2</th>\n",
       "      <th>STDNT_TEST_ENTRANCE_COMB</th>\n",
       "      <th>FIRST_TERM</th>\n",
       "      <th>SECOND_TERM</th>\n",
       "      <th>RETURNED_2ND_YR</th>\n",
       "      <th>DISTANCE_FROM_HOME</th>\n",
       "      <th>HIGH_SCHL_GPA</th>\n",
       "      <th>FATHER_HI_EDU_CD</th>\n",
       "      <th>MOTHER_HI_EDU_CD</th>\n",
       "      <th>FIRST_TERM_ATTEMPT_HRS</th>\n",
       "      <th>FIRST_TERM_EARNED_HRS</th>\n",
       "      <th>SECOND_TERM_ATTEMPT_HRS</th>\n",
       "      <th>SECOND_TERM_EARNED_HRS</th>\n",
       "      <th>GROSS_FIN_NEED</th>\n",
       "      <th>COST_OF_ATTEND</th>\n",
       "      <th>EST_FAM_CONTRIBUTION</th>\n",
       "      <th>UNMET_NEED</th>\n",
       "    </tr>\n",
       "  </thead>\n",
       "  <tbody>\n",
       "    <tr>\n",
       "      <th>count</th>\n",
       "      <td>3.400000e+03</td>\n",
       "      <td>3400.000000</td>\n",
       "      <td>1106.000000</td>\n",
       "      <td>2492.000000</td>\n",
       "      <td>2882.000000</td>\n",
       "      <td>3400.000000</td>\n",
       "      <td>3400.000000</td>\n",
       "      <td>3400.000000</td>\n",
       "      <td>3375.000000</td>\n",
       "      <td>3347.000000</td>\n",
       "      <td>2968.000000</td>\n",
       "      <td>2911.000000</td>\n",
       "      <td>3400.000000</td>\n",
       "      <td>3400.000000</td>\n",
       "      <td>3194.000000</td>\n",
       "      <td>3191.000000</td>\n",
       "      <td>3.400000e+03</td>\n",
       "      <td>3.400000e+03</td>\n",
       "      <td>3.400000e+03</td>\n",
       "      <td>3.400000e+03</td>\n",
       "    </tr>\n",
       "    <tr>\n",
       "      <th>mean</th>\n",
       "      <td>7.897155e+06</td>\n",
       "      <td>17.994118</td>\n",
       "      <td>20.660036</td>\n",
       "      <td>965.092295</td>\n",
       "      <td>997.758501</td>\n",
       "      <td>200777.000000</td>\n",
       "      <td>200871.000000</td>\n",
       "      <td>0.787353</td>\n",
       "      <td>99.825185</td>\n",
       "      <td>3.202738</td>\n",
       "      <td>2.560647</td>\n",
       "      <td>2.571281</td>\n",
       "      <td>13.985882</td>\n",
       "      <td>12.205000</td>\n",
       "      <td>14.285848</td>\n",
       "      <td>12.511125</td>\n",
       "      <td>3.034025e+05</td>\n",
       "      <td>5.515335e+05</td>\n",
       "      <td>3.446899e+05</td>\n",
       "      <td>7.222052e+04</td>\n",
       "    </tr>\n",
       "    <tr>\n",
       "      <th>std</th>\n",
       "      <td>8.083421e+04</td>\n",
       "      <td>0.552052</td>\n",
       "      <td>3.234734</td>\n",
       "      <td>209.088633</td>\n",
       "      <td>156.268221</td>\n",
       "      <td>170.001298</td>\n",
       "      <td>170.001298</td>\n",
       "      <td>0.409240</td>\n",
       "      <td>235.196984</td>\n",
       "      <td>0.455337</td>\n",
       "      <td>0.681273</td>\n",
       "      <td>0.611729</td>\n",
       "      <td>1.554286</td>\n",
       "      <td>2.986294</td>\n",
       "      <td>2.104387</td>\n",
       "      <td>3.470492</td>\n",
       "      <td>4.836255e+05</td>\n",
       "      <td>6.064403e+05</td>\n",
       "      <td>7.871878e+05</td>\n",
       "      <td>2.795679e+05</td>\n",
       "    </tr>\n",
       "    <tr>\n",
       "      <th>min</th>\n",
       "      <td>7.755837e+06</td>\n",
       "      <td>16.000000</td>\n",
       "      <td>8.000000</td>\n",
       "      <td>350.000000</td>\n",
       "      <td>530.000000</td>\n",
       "      <td>200508.000000</td>\n",
       "      <td>200602.000000</td>\n",
       "      <td>0.000000</td>\n",
       "      <td>0.000000</td>\n",
       "      <td>0.000000</td>\n",
       "      <td>1.000000</td>\n",
       "      <td>1.000000</td>\n",
       "      <td>9.000000</td>\n",
       "      <td>0.000000</td>\n",
       "      <td>2.000000</td>\n",
       "      <td>0.000000</td>\n",
       "      <td>0.000000e+00</td>\n",
       "      <td>0.000000e+00</td>\n",
       "      <td>0.000000e+00</td>\n",
       "      <td>-1.212072e+06</td>\n",
       "    </tr>\n",
       "    <tr>\n",
       "      <th>25%</th>\n",
       "      <td>7.827039e+06</td>\n",
       "      <td>18.000000</td>\n",
       "      <td>18.000000</td>\n",
       "      <td>900.000000</td>\n",
       "      <td>910.000000</td>\n",
       "      <td>200608.000000</td>\n",
       "      <td>200702.000000</td>\n",
       "      <td>1.000000</td>\n",
       "      <td>69.000000</td>\n",
       "      <td>2.870000</td>\n",
       "      <td>2.000000</td>\n",
       "      <td>2.000000</td>\n",
       "      <td>13.000000</td>\n",
       "      <td>11.000000</td>\n",
       "      <td>13.000000</td>\n",
       "      <td>11.000000</td>\n",
       "      <td>0.000000e+00</td>\n",
       "      <td>0.000000e+00</td>\n",
       "      <td>0.000000e+00</td>\n",
       "      <td>0.000000e+00</td>\n",
       "    </tr>\n",
       "    <tr>\n",
       "      <th>50%</th>\n",
       "      <td>7.899052e+06</td>\n",
       "      <td>18.000000</td>\n",
       "      <td>20.000000</td>\n",
       "      <td>990.000000</td>\n",
       "      <td>990.000000</td>\n",
       "      <td>200808.000000</td>\n",
       "      <td>200902.000000</td>\n",
       "      <td>1.000000</td>\n",
       "      <td>69.000000</td>\n",
       "      <td>3.200000</td>\n",
       "      <td>3.000000</td>\n",
       "      <td>3.000000</td>\n",
       "      <td>14.000000</td>\n",
       "      <td>13.000000</td>\n",
       "      <td>14.000000</td>\n",
       "      <td>13.000000</td>\n",
       "      <td>0.000000e+00</td>\n",
       "      <td>1.505400e+05</td>\n",
       "      <td>0.000000e+00</td>\n",
       "      <td>0.000000e+00</td>\n",
       "    </tr>\n",
       "    <tr>\n",
       "      <th>75%</th>\n",
       "      <td>7.964008e+06</td>\n",
       "      <td>18.000000</td>\n",
       "      <td>22.000000</td>\n",
       "      <td>1100.000000</td>\n",
       "      <td>1110.000000</td>\n",
       "      <td>200908.000000</td>\n",
       "      <td>201002.000000</td>\n",
       "      <td>1.000000</td>\n",
       "      <td>138.000000</td>\n",
       "      <td>3.560000</td>\n",
       "      <td>3.000000</td>\n",
       "      <td>3.000000</td>\n",
       "      <td>15.000000</td>\n",
       "      <td>15.000000</td>\n",
       "      <td>16.000000</td>\n",
       "      <td>15.000000</td>\n",
       "      <td>5.995800e+05</td>\n",
       "      <td>1.192815e+06</td>\n",
       "      <td>3.241800e+05</td>\n",
       "      <td>1.876155e+05</td>\n",
       "    </tr>\n",
       "    <tr>\n",
       "      <th>max</th>\n",
       "      <td>8.037098e+06</td>\n",
       "      <td>26.000000</td>\n",
       "      <td>32.000000</td>\n",
       "      <td>1490.000000</td>\n",
       "      <td>1510.000000</td>\n",
       "      <td>201008.000000</td>\n",
       "      <td>201102.000000</td>\n",
       "      <td>1.000000</td>\n",
       "      <td>5932.000000</td>\n",
       "      <td>4.000000</td>\n",
       "      <td>4.000000</td>\n",
       "      <td>4.000000</td>\n",
       "      <td>21.000000</td>\n",
       "      <td>21.000000</td>\n",
       "      <td>23.000000</td>\n",
       "      <td>23.000000</td>\n",
       "      <td>2.124900e+06</td>\n",
       "      <td>2.124900e+06</td>\n",
       "      <td>5.999940e+06</td>\n",
       "      <td>1.632660e+06</td>\n",
       "    </tr>\n",
       "  </tbody>\n",
       "</table>\n",
       "</div>"
      ],
      "text/plain": [
       "       STUDENT IDENTIFIER    STDNT_AGE  STDNT_TEST_ENTRANCE1  \\\n",
       "count        3.400000e+03  3400.000000           1106.000000   \n",
       "mean         7.897155e+06    17.994118             20.660036   \n",
       "std          8.083421e+04     0.552052              3.234734   \n",
       "min          7.755837e+06    16.000000              8.000000   \n",
       "25%          7.827039e+06    18.000000             18.000000   \n",
       "50%          7.899052e+06    18.000000             20.000000   \n",
       "75%          7.964008e+06    18.000000             22.000000   \n",
       "max          8.037098e+06    26.000000             32.000000   \n",
       "\n",
       "       STDNT_TEST_ENTRANCE2  STDNT_TEST_ENTRANCE_COMB     FIRST_TERM  \\\n",
       "count           2492.000000               2882.000000    3400.000000   \n",
       "mean             965.092295                997.758501  200777.000000   \n",
       "std              209.088633                156.268221     170.001298   \n",
       "min              350.000000                530.000000  200508.000000   \n",
       "25%              900.000000                910.000000  200608.000000   \n",
       "50%              990.000000                990.000000  200808.000000   \n",
       "75%             1100.000000               1110.000000  200908.000000   \n",
       "max             1490.000000               1510.000000  201008.000000   \n",
       "\n",
       "         SECOND_TERM  RETURNED_2ND_YR  DISTANCE_FROM_HOME  HIGH_SCHL_GPA  \\\n",
       "count    3400.000000      3400.000000         3375.000000    3347.000000   \n",
       "mean   200871.000000         0.787353           99.825185       3.202738   \n",
       "std       170.001298         0.409240          235.196984       0.455337   \n",
       "min    200602.000000         0.000000            0.000000       0.000000   \n",
       "25%    200702.000000         1.000000           69.000000       2.870000   \n",
       "50%    200902.000000         1.000000           69.000000       3.200000   \n",
       "75%    201002.000000         1.000000          138.000000       3.560000   \n",
       "max    201102.000000         1.000000         5932.000000       4.000000   \n",
       "\n",
       "       FATHER_HI_EDU_CD  MOTHER_HI_EDU_CD  FIRST_TERM_ATTEMPT_HRS  \\\n",
       "count       2968.000000       2911.000000             3400.000000   \n",
       "mean           2.560647          2.571281               13.985882   \n",
       "std            0.681273          0.611729                1.554286   \n",
       "min            1.000000          1.000000                9.000000   \n",
       "25%            2.000000          2.000000               13.000000   \n",
       "50%            3.000000          3.000000               14.000000   \n",
       "75%            3.000000          3.000000               15.000000   \n",
       "max            4.000000          4.000000               21.000000   \n",
       "\n",
       "       FIRST_TERM_EARNED_HRS  SECOND_TERM_ATTEMPT_HRS  SECOND_TERM_EARNED_HRS  \\\n",
       "count            3400.000000              3194.000000             3191.000000   \n",
       "mean               12.205000                14.285848               12.511125   \n",
       "std                 2.986294                 2.104387                3.470492   \n",
       "min                 0.000000                 2.000000                0.000000   \n",
       "25%                11.000000                13.000000               11.000000   \n",
       "50%                13.000000                14.000000               13.000000   \n",
       "75%                15.000000                16.000000               15.000000   \n",
       "max                21.000000                23.000000               23.000000   \n",
       "\n",
       "       GROSS_FIN_NEED  COST_OF_ATTEND  EST_FAM_CONTRIBUTION    UNMET_NEED  \n",
       "count    3.400000e+03    3.400000e+03          3.400000e+03  3.400000e+03  \n",
       "mean     3.034025e+05    5.515335e+05          3.446899e+05  7.222052e+04  \n",
       "std      4.836255e+05    6.064403e+05          7.871878e+05  2.795679e+05  \n",
       "min      0.000000e+00    0.000000e+00          0.000000e+00 -1.212072e+06  \n",
       "25%      0.000000e+00    0.000000e+00          0.000000e+00  0.000000e+00  \n",
       "50%      0.000000e+00    1.505400e+05          0.000000e+00  0.000000e+00  \n",
       "75%      5.995800e+05    1.192815e+06          3.241800e+05  1.876155e+05  \n",
       "max      2.124900e+06    2.124900e+06          5.999940e+06  1.632660e+06  "
      ]
     },
     "execution_count": 6,
     "metadata": {},
     "output_type": "execute_result"
    }
   ],
   "source": [
    "#show some statistical summary\n",
    "data.describe()"
   ]
  },
  {
   "cell_type": "markdown",
   "id": "e7452ef5",
   "metadata": {
    "papermill": {
     "duration": 0.007033,
     "end_time": "2024-12-12T11:37:53.212409",
     "exception": false,
     "start_time": "2024-12-12T11:37:53.205376",
     "status": "completed"
    },
    "tags": []
   },
   "source": [
    "# Data Cleaning"
   ]
  },
  {
   "cell_type": "code",
   "execution_count": 7,
   "id": "d6c94812",
   "metadata": {
    "execution": {
     "iopub.execute_input": "2024-12-12T11:37:53.229542Z",
     "iopub.status.busy": "2024-12-12T11:37:53.229122Z",
     "iopub.status.idle": "2024-12-12T11:37:53.243151Z",
     "shell.execute_reply": "2024-12-12T11:37:53.242039Z"
    },
    "papermill": {
     "duration": 0.025584,
     "end_time": "2024-12-12T11:37:53.245416",
     "exception": false,
     "start_time": "2024-12-12T11:37:53.219832",
     "status": "completed"
    },
    "tags": []
   },
   "outputs": [
    {
     "data": {
      "text/plain": [
       "FIRST_TERM\n",
       "2009    676\n",
       "2010    632\n",
       "2008    581\n",
       "2007    521\n",
       "2006    497\n",
       "2005    493\n",
       "Name: count, dtype: int64"
      ]
     },
     "execution_count": 7,
     "metadata": {},
     "output_type": "execute_result"
    }
   ],
   "source": [
    "#all rows in FIRS_TERM were in August so it's not important to keep it\n",
    "data['FIRST_TERM'] = data['FIRST_TERM'].replace({200508:2005, 200608:2006, 200708:2007, 200808:2008, 200908:2009, 201008:2010})\n",
    "data['FIRST_TERM'].value_counts()"
   ]
  },
  {
   "cell_type": "code",
   "execution_count": 8,
   "id": "3baa71a6",
   "metadata": {
    "execution": {
     "iopub.execute_input": "2024-12-12T11:37:53.262106Z",
     "iopub.status.busy": "2024-12-12T11:37:53.261686Z",
     "iopub.status.idle": "2024-12-12T11:37:53.273259Z",
     "shell.execute_reply": "2024-12-12T11:37:53.272034Z"
    },
    "papermill": {
     "duration": 0.022445,
     "end_time": "2024-12-12T11:37:53.275404",
     "exception": false,
     "start_time": "2024-12-12T11:37:53.252959",
     "status": "completed"
    },
    "tags": []
   },
   "outputs": [
    {
     "data": {
      "text/plain": [
       "SECOND_TERM\n",
       "2010    676\n",
       "2011    632\n",
       "2009    581\n",
       "2008    521\n",
       "2007    497\n",
       "2006    493\n",
       "Name: count, dtype: int64"
      ]
     },
     "execution_count": 8,
     "metadata": {},
     "output_type": "execute_result"
    }
   ],
   "source": [
    "#all rows in SECOND_TERM were in February so it's not important to keep it\n",
    "data['SECOND_TERM'] = data['SECOND_TERM'].replace({200602:2006, 200702:2007, 200802:2008, 200902:2009, 201002:2010, 201102:2011})\n",
    "data['SECOND_TERM'].value_counts()"
   ]
  },
  {
   "cell_type": "markdown",
   "id": "a0dc9d86",
   "metadata": {
    "papermill": {
     "duration": 0.007252,
     "end_time": "2024-12-12T11:37:53.290379",
     "exception": false,
     "start_time": "2024-12-12T11:37:53.283127",
     "status": "completed"
    },
    "tags": []
   },
   "source": [
    "# Feature Extraction"
   ]
  },
  {
   "cell_type": "code",
   "execution_count": 9,
   "id": "e46d5bb8",
   "metadata": {
    "execution": {
     "iopub.execute_input": "2024-12-12T11:37:53.308076Z",
     "iopub.status.busy": "2024-12-12T11:37:53.307001Z",
     "iopub.status.idle": "2024-12-12T11:37:53.313875Z",
     "shell.execute_reply": "2024-12-12T11:37:53.312462Z"
    },
    "papermill": {
     "duration": 0.018448,
     "end_time": "2024-12-12T11:37:53.316459",
     "exception": false,
     "start_time": "2024-12-12T11:37:53.298011",
     "status": "completed"
    },
    "tags": []
   },
   "outputs": [],
   "source": [
    "#all hours in the FIRST_TERM\n",
    "data['FIRST_Term_Hours'] = data['FIRST_TERM_EARNED_HRS'] / data['FIRST_TERM_ATTEMPT_HRS']"
   ]
  },
  {
   "cell_type": "code",
   "execution_count": 10,
   "id": "a08c436b",
   "metadata": {
    "execution": {
     "iopub.execute_input": "2024-12-12T11:37:53.333290Z",
     "iopub.status.busy": "2024-12-12T11:37:53.332862Z",
     "iopub.status.idle": "2024-12-12T11:37:53.339333Z",
     "shell.execute_reply": "2024-12-12T11:37:53.338116Z"
    },
    "papermill": {
     "duration": 0.017671,
     "end_time": "2024-12-12T11:37:53.341876",
     "exception": false,
     "start_time": "2024-12-12T11:37:53.324205",
     "status": "completed"
    },
    "tags": []
   },
   "outputs": [],
   "source": [
    "#all hours in the SECOND_TERM\n",
    "data['SECOND_Term_Hours'] = data['SECOND_TERM_EARNED_HRS'] / data['SECOND_TERM_ATTEMPT_HRS']"
   ]
  },
  {
   "cell_type": "code",
   "execution_count": 11,
   "id": "bcca77d5",
   "metadata": {
    "execution": {
     "iopub.execute_input": "2024-12-12T11:37:53.359734Z",
     "iopub.status.busy": "2024-12-12T11:37:53.359355Z",
     "iopub.status.idle": "2024-12-12T11:37:53.372469Z",
     "shell.execute_reply": "2024-12-12T11:37:53.371259Z"
    },
    "papermill": {
     "duration": 0.025718,
     "end_time": "2024-12-12T11:37:53.375306",
     "exception": false,
     "start_time": "2024-12-12T11:37:53.349588",
     "status": "completed"
    },
    "tags": []
   },
   "outputs": [],
   "source": [
    "#take only the letter of the Course\n",
    "data['CORE_COURSE_NAME_1_F'] = data['CORE_COURSE_NAME_1_F'].str.slice(0,4)\n",
    "data['CORE_COURSE_NAME_2_F'] = data['CORE_COURSE_NAME_2_F'].str.slice(0,4)\n",
    "data['CORE_COURSE_NAME_1_S'] = data['CORE_COURSE_NAME_1_S'].str.slice(0,4)\n",
    "data['CORE_COURSE_NAME_2_S'] = data['CORE_COURSE_NAME_2_S'].str.slice(0,4)"
   ]
  },
  {
   "cell_type": "code",
   "execution_count": 12,
   "id": "b3426715",
   "metadata": {
    "execution": {
     "iopub.execute_input": "2024-12-12T11:37:53.392567Z",
     "iopub.status.busy": "2024-12-12T11:37:53.392192Z",
     "iopub.status.idle": "2024-12-12T11:37:53.403175Z",
     "shell.execute_reply": "2024-12-12T11:37:53.401982Z"
    },
    "papermill": {
     "duration": 0.022464,
     "end_time": "2024-12-12T11:37:53.405793",
     "exception": false,
     "start_time": "2024-12-12T11:37:53.383329",
     "status": "completed"
    },
    "tags": []
   },
   "outputs": [],
   "source": [
    "#drop unnecessary Columns that has alot of NULLs or i don't need it any more\n",
    "data.drop(columns= ['CORE_COURSE_NAME_3_F',\n",
    "'CORE_COURSE_GRADE_3_F','CORE_COURSE_NAME_4_F',\n",
    "'CORE_COURSE_GRADE_4_F','CORE_COURSE_NAME_5_F',\n",
    "'CORE_COURSE_GRADE_5_F','CORE_COURSE_NAME_6_F',\n",
    "'CORE_COURSE_GRADE_6_F','CORE_COURSE_NAME_3_S',\n",
    "'CORE_COURSE_GRADE_3_S','CORE_COURSE_NAME_4_S',\n",
    "'CORE_COURSE_GRADE_4_S','CORE_COURSE_NAME_5_S',\n",
    "'CORE_COURSE_GRADE_5_S','CORE_COURSE_NAME_6_S',\n",
    "'CORE_COURSE_GRADE_6_S','FIRST_TERM_ATTEMPT_HRS',\n",
    "'FIRST_TERM_EARNED_HRS','SECOND_TERM_ATTEMPT_HRS',\n",
    "'SECOND_TERM_EARNED_HRS','STDNT_TEST_ENTRANCE1',\n",
    "'STDNT_TEST_ENTRANCE2','STDNT_TEST_ENTRANCE_COMB'],axis=1, inplace=True)"
   ]
  },
  {
   "cell_type": "code",
   "execution_count": 13,
   "id": "4ab35fc6",
   "metadata": {
    "execution": {
     "iopub.execute_input": "2024-12-12T11:37:53.423080Z",
     "iopub.status.busy": "2024-12-12T11:37:53.422654Z",
     "iopub.status.idle": "2024-12-12T11:37:53.436700Z",
     "shell.execute_reply": "2024-12-12T11:37:53.435510Z"
    },
    "papermill": {
     "duration": 0.025692,
     "end_time": "2024-12-12T11:37:53.439192",
     "exception": false,
     "start_time": "2024-12-12T11:37:53.413500",
     "status": "completed"
    },
    "tags": []
   },
   "outputs": [],
   "source": [
    "#fill the NULLs with 0\n",
    "data.fillna(0,inplace=True)"
   ]
  },
  {
   "cell_type": "code",
   "execution_count": 14,
   "id": "6d8d0ef7",
   "metadata": {
    "execution": {
     "iopub.execute_input": "2024-12-12T11:37:53.456028Z",
     "iopub.status.busy": "2024-12-12T11:37:53.455549Z",
     "iopub.status.idle": "2024-12-12T11:37:53.470151Z",
     "shell.execute_reply": "2024-12-12T11:37:53.468978Z"
    },
    "papermill": {
     "duration": 0.025811,
     "end_time": "2024-12-12T11:37:53.472674",
     "exception": false,
     "start_time": "2024-12-12T11:37:53.446863",
     "status": "completed"
    },
    "tags": []
   },
   "outputs": [
    {
     "data": {
      "text/plain": [
       "STUDENT IDENTIFIER       0\n",
       "STDNT_AGE                0\n",
       "STDNT_GENDER             0\n",
       "STDNT_BACKGROUND         0\n",
       "IN_STATE_FLAG            0\n",
       "INTERNATIONAL_STS        0\n",
       "STDNT_MAJOR              0\n",
       "STDNT_MINOR              0\n",
       "FIRST_TERM               0\n",
       "CORE_COURSE_NAME_1_F     0\n",
       "CORE_COURSE_GRADE_1_F    0\n",
       "CORE_COURSE_NAME_2_F     0\n",
       "CORE_COURSE_GRADE_2_F    0\n",
       "SECOND_TERM              0\n",
       "CORE_COURSE_NAME_1_S     0\n",
       "CORE_COURSE_GRADE_1_S    0\n",
       "CORE_COURSE_NAME_2_S     0\n",
       "CORE_COURSE_GRADE_2_S    0\n",
       "HOUSING_STS              0\n",
       "RETURNED_2ND_YR          0\n",
       "DISTANCE_FROM_HOME       0\n",
       "HIGH_SCHL_GPA            0\n",
       "HIGH_SCHL_NAME           0\n",
       "FATHER_HI_EDU_CD         0\n",
       "FATHER_HI_EDU_DESC       0\n",
       "MOTHER_HI_EDU_CD         0\n",
       "MOTHER_HI_EDU_DESC       0\n",
       "DEGREE_GROUP_CD          0\n",
       "DEGREE_GROUP_DESC        0\n",
       "GROSS_FIN_NEED           0\n",
       "COST_OF_ATTEND           0\n",
       "EST_FAM_CONTRIBUTION     0\n",
       "UNMET_NEED               0\n",
       "FIRST_Term_Hours         0\n",
       "SECOND_Term_Hours        0\n",
       "dtype: int64"
      ]
     },
     "execution_count": 14,
     "metadata": {},
     "output_type": "execute_result"
    }
   ],
   "source": [
    "#check the NULLs after cleaning\n",
    "data.isna().sum()"
   ]
  },
  {
   "cell_type": "markdown",
   "id": "bef0e484",
   "metadata": {
    "papermill": {
     "duration": 0.007546,
     "end_time": "2024-12-12T11:37:53.487925",
     "exception": false,
     "start_time": "2024-12-12T11:37:53.480379",
     "status": "completed"
    },
    "tags": []
   },
   "source": [
    "# Encoding"
   ]
  },
  {
   "cell_type": "code",
   "execution_count": 15,
   "id": "bf518bed",
   "metadata": {
    "execution": {
     "iopub.execute_input": "2024-12-12T11:37:53.505069Z",
     "iopub.status.busy": "2024-12-12T11:37:53.504650Z",
     "iopub.status.idle": "2024-12-12T11:37:53.512810Z",
     "shell.execute_reply": "2024-12-12T11:37:53.511782Z"
    },
    "papermill": {
     "duration": 0.019504,
     "end_time": "2024-12-12T11:37:53.515028",
     "exception": false,
     "start_time": "2024-12-12T11:37:53.495524",
     "status": "completed"
    },
    "tags": []
   },
   "outputs": [],
   "source": [
    "X = data.drop('RETURNED_2ND_YR',axis=1)\n",
    "y = data['RETURNED_2ND_YR']"
   ]
  },
  {
   "cell_type": "code",
   "execution_count": 16,
   "id": "2167636c",
   "metadata": {
    "execution": {
     "iopub.execute_input": "2024-12-12T11:37:53.531877Z",
     "iopub.status.busy": "2024-12-12T11:37:53.531513Z",
     "iopub.status.idle": "2024-12-12T11:37:53.581449Z",
     "shell.execute_reply": "2024-12-12T11:37:53.580173Z"
    },
    "papermill": {
     "duration": 0.061421,
     "end_time": "2024-12-12T11:37:53.584089",
     "exception": false,
     "start_time": "2024-12-12T11:37:53.522668",
     "status": "completed"
    },
    "tags": []
   },
   "outputs": [
    {
     "data": {
      "text/html": [
       "<div>\n",
       "<style scoped>\n",
       "    .dataframe tbody tr th:only-of-type {\n",
       "        vertical-align: middle;\n",
       "    }\n",
       "\n",
       "    .dataframe tbody tr th {\n",
       "        vertical-align: top;\n",
       "    }\n",
       "\n",
       "    .dataframe thead th {\n",
       "        text-align: right;\n",
       "    }\n",
       "</style>\n",
       "<table border=\"1\" class=\"dataframe\">\n",
       "  <thead>\n",
       "    <tr style=\"text-align: right;\">\n",
       "      <th></th>\n",
       "      <th>STUDENT IDENTIFIER</th>\n",
       "      <th>STDNT_AGE</th>\n",
       "      <th>FIRST_TERM</th>\n",
       "      <th>SECOND_TERM</th>\n",
       "      <th>DISTANCE_FROM_HOME</th>\n",
       "      <th>HIGH_SCHL_GPA</th>\n",
       "      <th>FATHER_HI_EDU_CD</th>\n",
       "      <th>MOTHER_HI_EDU_CD</th>\n",
       "      <th>GROSS_FIN_NEED</th>\n",
       "      <th>COST_OF_ATTEND</th>\n",
       "      <th>...</th>\n",
       "      <th>MOTHER_HI_EDU_DESC_High School</th>\n",
       "      <th>MOTHER_HI_EDU_DESC_Middle School/Junior High</th>\n",
       "      <th>MOTHER_HI_EDU_DESC_No Information</th>\n",
       "      <th>MOTHER_HI_EDU_DESC_Other/Unknown</th>\n",
       "      <th>DEGREE_GROUP_CD_A</th>\n",
       "      <th>DEGREE_GROUP_CD_B</th>\n",
       "      <th>DEGREE_GROUP_CD_V</th>\n",
       "      <th>DEGREE_GROUP_DESC_Associate</th>\n",
       "      <th>DEGREE_GROUP_DESC_Bachelors</th>\n",
       "      <th>DEGREE_GROUP_DESC_Career Associate</th>\n",
       "    </tr>\n",
       "  </thead>\n",
       "  <tbody>\n",
       "    <tr>\n",
       "      <th>0</th>\n",
       "      <td>7808615</td>\n",
       "      <td>18</td>\n",
       "      <td>2007</td>\n",
       "      <td>2008</td>\n",
       "      <td>150.0</td>\n",
       "      <td>4.00</td>\n",
       "      <td>0.0</td>\n",
       "      <td>0.0</td>\n",
       "      <td>0</td>\n",
       "      <td>0</td>\n",
       "      <td>...</td>\n",
       "      <td>False</td>\n",
       "      <td>False</td>\n",
       "      <td>True</td>\n",
       "      <td>False</td>\n",
       "      <td>False</td>\n",
       "      <td>True</td>\n",
       "      <td>False</td>\n",
       "      <td>False</td>\n",
       "      <td>True</td>\n",
       "      <td>False</td>\n",
       "    </tr>\n",
       "    <tr>\n",
       "      <th>1</th>\n",
       "      <td>7830063</td>\n",
       "      <td>19</td>\n",
       "      <td>2008</td>\n",
       "      <td>2009</td>\n",
       "      <td>69.0</td>\n",
       "      <td>2.89</td>\n",
       "      <td>3.0</td>\n",
       "      <td>3.0</td>\n",
       "      <td>570000</td>\n",
       "      <td>1355760</td>\n",
       "      <td>...</td>\n",
       "      <td>False</td>\n",
       "      <td>False</td>\n",
       "      <td>False</td>\n",
       "      <td>False</td>\n",
       "      <td>False</td>\n",
       "      <td>True</td>\n",
       "      <td>False</td>\n",
       "      <td>False</td>\n",
       "      <td>True</td>\n",
       "      <td>False</td>\n",
       "    </tr>\n",
       "    <tr>\n",
       "      <th>2</th>\n",
       "      <td>7847538</td>\n",
       "      <td>18</td>\n",
       "      <td>2010</td>\n",
       "      <td>2011</td>\n",
       "      <td>150.0</td>\n",
       "      <td>3.39</td>\n",
       "      <td>2.0</td>\n",
       "      <td>4.0</td>\n",
       "      <td>0</td>\n",
       "      <td>0</td>\n",
       "      <td>...</td>\n",
       "      <td>False</td>\n",
       "      <td>False</td>\n",
       "      <td>False</td>\n",
       "      <td>True</td>\n",
       "      <td>False</td>\n",
       "      <td>True</td>\n",
       "      <td>False</td>\n",
       "      <td>False</td>\n",
       "      <td>True</td>\n",
       "      <td>False</td>\n",
       "    </tr>\n",
       "    <tr>\n",
       "      <th>3</th>\n",
       "      <td>8006429</td>\n",
       "      <td>18</td>\n",
       "      <td>2007</td>\n",
       "      <td>2008</td>\n",
       "      <td>150.0</td>\n",
       "      <td>2.93</td>\n",
       "      <td>3.0</td>\n",
       "      <td>3.0</td>\n",
       "      <td>0</td>\n",
       "      <td>0</td>\n",
       "      <td>...</td>\n",
       "      <td>False</td>\n",
       "      <td>False</td>\n",
       "      <td>False</td>\n",
       "      <td>False</td>\n",
       "      <td>False</td>\n",
       "      <td>True</td>\n",
       "      <td>False</td>\n",
       "      <td>False</td>\n",
       "      <td>True</td>\n",
       "      <td>False</td>\n",
       "    </tr>\n",
       "    <tr>\n",
       "      <th>4</th>\n",
       "      <td>7962680</td>\n",
       "      <td>18</td>\n",
       "      <td>2008</td>\n",
       "      <td>2009</td>\n",
       "      <td>69.0</td>\n",
       "      <td>3.86</td>\n",
       "      <td>3.0</td>\n",
       "      <td>2.0</td>\n",
       "      <td>835920</td>\n",
       "      <td>1355760</td>\n",
       "      <td>...</td>\n",
       "      <td>True</td>\n",
       "      <td>False</td>\n",
       "      <td>False</td>\n",
       "      <td>False</td>\n",
       "      <td>False</td>\n",
       "      <td>True</td>\n",
       "      <td>False</td>\n",
       "      <td>False</td>\n",
       "      <td>True</td>\n",
       "      <td>False</td>\n",
       "    </tr>\n",
       "  </tbody>\n",
       "</table>\n",
       "<p>5 rows × 715 columns</p>\n",
       "</div>"
      ],
      "text/plain": [
       "   STUDENT IDENTIFIER  STDNT_AGE  FIRST_TERM  SECOND_TERM  DISTANCE_FROM_HOME  \\\n",
       "0             7808615         18        2007         2008               150.0   \n",
       "1             7830063         19        2008         2009                69.0   \n",
       "2             7847538         18        2010         2011               150.0   \n",
       "3             8006429         18        2007         2008               150.0   \n",
       "4             7962680         18        2008         2009                69.0   \n",
       "\n",
       "   HIGH_SCHL_GPA  FATHER_HI_EDU_CD  MOTHER_HI_EDU_CD  GROSS_FIN_NEED  \\\n",
       "0           4.00               0.0               0.0               0   \n",
       "1           2.89               3.0               3.0          570000   \n",
       "2           3.39               2.0               4.0               0   \n",
       "3           2.93               3.0               3.0               0   \n",
       "4           3.86               3.0               2.0          835920   \n",
       "\n",
       "   COST_OF_ATTEND  ...  MOTHER_HI_EDU_DESC_High School  \\\n",
       "0               0  ...                           False   \n",
       "1         1355760  ...                           False   \n",
       "2               0  ...                           False   \n",
       "3               0  ...                           False   \n",
       "4         1355760  ...                            True   \n",
       "\n",
       "   MOTHER_HI_EDU_DESC_Middle School/Junior High  \\\n",
       "0                                         False   \n",
       "1                                         False   \n",
       "2                                         False   \n",
       "3                                         False   \n",
       "4                                         False   \n",
       "\n",
       "   MOTHER_HI_EDU_DESC_No Information  MOTHER_HI_EDU_DESC_Other/Unknown  \\\n",
       "0                               True                             False   \n",
       "1                              False                             False   \n",
       "2                              False                              True   \n",
       "3                              False                             False   \n",
       "4                              False                             False   \n",
       "\n",
       "   DEGREE_GROUP_CD_A  DEGREE_GROUP_CD_B  DEGREE_GROUP_CD_V  \\\n",
       "0              False               True              False   \n",
       "1              False               True              False   \n",
       "2              False               True              False   \n",
       "3              False               True              False   \n",
       "4              False               True              False   \n",
       "\n",
       "   DEGREE_GROUP_DESC_Associate  DEGREE_GROUP_DESC_Bachelors  \\\n",
       "0                        False                         True   \n",
       "1                        False                         True   \n",
       "2                        False                         True   \n",
       "3                        False                         True   \n",
       "4                        False                         True   \n",
       "\n",
       "   DEGREE_GROUP_DESC_Career Associate  \n",
       "0                               False  \n",
       "1                               False  \n",
       "2                               False  \n",
       "3                               False  \n",
       "4                               False  \n",
       "\n",
       "[5 rows x 715 columns]"
      ]
     },
     "execution_count": 16,
     "metadata": {},
     "output_type": "execute_result"
    }
   ],
   "source": [
    "#column encoding for modeling\n",
    "X = pd.get_dummies(X)\n",
    "X.head()"
   ]
  },
  {
   "cell_type": "code",
   "execution_count": 17,
   "id": "84c6df59",
   "metadata": {
    "execution": {
     "iopub.execute_input": "2024-12-12T11:37:53.602471Z",
     "iopub.status.busy": "2024-12-12T11:37:53.601446Z",
     "iopub.status.idle": "2024-12-12T11:37:57.500844Z",
     "shell.execute_reply": "2024-12-12T11:37:57.499543Z"
    },
    "papermill": {
     "duration": 3.911887,
     "end_time": "2024-12-12T11:37:57.504151",
     "exception": false,
     "start_time": "2024-12-12T11:37:53.592264",
     "status": "completed"
    },
    "tags": []
   },
   "outputs": [
    {
     "data": {
      "image/png": "[encoded data removed]",
      "text/plain": [
       "<Figure size 640x480 with 1 Axes>"
      ]
     },
     "metadata": {},
     "output_type": "display_data"
    }
   ],
   "source": [
    "#test the data with model to see the top features that can be important \n",
    "from sklearn.ensemble import RandomForestClassifier\n",
    "import matplotlib.pyplot as plt\n",
    "\n",
    "#fit the model\n",
    "model = RandomForestClassifier()\n",
    "model.fit(X,y)\n",
    "\n",
    "#show the important features with bar plot graph\n",
    "important_features = pd.Series(model.feature_importances_,index=X.columns)\n",
    "important_features.nlargest(50).plot(kind='barh')\n",
    "plt.title('Top 50 Important Features')\n",
    "plt.show()\n"
   ]
  },
  {
   "cell_type": "markdown",
   "id": "f9a7b514",
   "metadata": {
    "papermill": {
     "duration": 0.009737,
     "end_time": "2024-12-12T11:37:57.524016",
     "exception": false,
     "start_time": "2024-12-12T11:37:57.514279",
     "status": "completed"
    },
    "tags": []
   },
   "source": [
    "# Scaling"
   ]
  },
  {
   "cell_type": "code",
   "execution_count": 18,
   "id": "c1a62b1d",
   "metadata": {
    "execution": {
     "iopub.execute_input": "2024-12-12T11:37:57.546811Z",
     "iopub.status.busy": "2024-12-12T11:37:57.546281Z",
     "iopub.status.idle": "2024-12-12T11:37:57.664438Z",
     "shell.execute_reply": "2024-12-12T11:37:57.663392Z"
    },
    "papermill": {
     "duration": 0.133064,
     "end_time": "2024-12-12T11:37:57.667249",
     "exception": false,
     "start_time": "2024-12-12T11:37:57.534185",
     "status": "completed"
    },
    "tags": []
   },
   "outputs": [],
   "source": [
    "#Scaling the data for good fitiing\n",
    "from sklearn.preprocessing import MinMaxScaler\n",
    "scaled = MinMaxScaler()\n",
    "Xscaled = scaled.fit_transform(X)\n"
   ]
  },
  {
   "cell_type": "markdown",
   "id": "ee7026ee",
   "metadata": {
    "papermill": {
     "duration": 0.010246,
     "end_time": "2024-12-12T11:37:57.687668",
     "exception": false,
     "start_time": "2024-12-12T11:37:57.677422",
     "status": "completed"
    },
    "tags": []
   },
   "source": [
    "# Feature Selection"
   ]
  },
  {
   "cell_type": "code",
   "execution_count": 19,
   "id": "825ca345",
   "metadata": {
    "execution": {
     "iopub.execute_input": "2024-12-12T11:37:57.710094Z",
     "iopub.status.busy": "2024-12-12T11:37:57.709539Z",
     "iopub.status.idle": "2024-12-12T11:37:57.765909Z",
     "shell.execute_reply": "2024-12-12T11:37:57.763862Z"
    },
    "papermill": {
     "duration": 0.071512,
     "end_time": "2024-12-12T11:37:57.769428",
     "exception": false,
     "start_time": "2024-12-12T11:37:57.697916",
     "status": "completed"
    },
    "tags": []
   },
   "outputs": [
    {
     "name": "stdout",
     "output_type": "stream",
     "text": [
      "(3400, 50)\n"
     ]
    }
   ],
   "source": [
    "#select the best 50 features with Kbest\n",
    "from sklearn.feature_selection import SelectKBest, chi2\n",
    "best50 = SelectKBest(chi2,k=50)\n",
    "best50.fit_transform(Xscaled,y)\n",
    "\n",
    "#get the names of these columns\n",
    "columns = X.columns[best50.get_support()]\n",
    "\n",
    "#Create a new Frame \n",
    "Xnew = X[columns]\n",
    "print(Xnew.shape)"
   ]
  },
  {
   "cell_type": "markdown",
   "id": "feffae0a",
   "metadata": {
    "papermill": {
     "duration": 0.019235,
     "end_time": "2024-12-12T11:37:57.807748",
     "exception": false,
     "start_time": "2024-12-12T11:37:57.788513",
     "status": "completed"
    },
    "tags": []
   },
   "source": [
    "# Data Spliting"
   ]
  },
  {
   "cell_type": "code",
   "execution_count": 20,
   "id": "eaf1cad1",
   "metadata": {
    "execution": {
     "iopub.execute_input": "2024-12-12T11:37:57.850375Z",
     "iopub.status.busy": "2024-12-12T11:37:57.849356Z",
     "iopub.status.idle": "2024-12-12T11:37:57.867661Z",
     "shell.execute_reply": "2024-12-12T11:37:57.865316Z"
    },
    "papermill": {
     "duration": 0.042963,
     "end_time": "2024-12-12T11:37:57.870964",
     "exception": false,
     "start_time": "2024-12-12T11:37:57.828001",
     "status": "completed"
    },
    "tags": []
   },
   "outputs": [
    {
     "name": "stdout",
     "output_type": "stream",
     "text": [
      "X train shape: (2720, 50)\n",
      "X test shape: (680, 50)\n",
      "y train shape: (2720,)\n",
      "y test shape: (680,)\n"
     ]
    }
   ],
   "source": [
    "#split the data for train and test\n",
    "from sklearn.model_selection import train_test_split\n",
    "X_train,X_test,y_train,y_test = train_test_split(Xnew,y,test_size=0.2,shuffle=True,random_state=44)\n",
    "print(f'X train shape: {X_train.shape}')\n",
    "print(f'X test shape: {X_test.shape}')\n",
    "print(f'y train shape: {y_train.shape}')\n",
    "print(f'y test shape: {y_test.shape}')"
   ]
  },
  {
   "cell_type": "markdown",
   "id": "9db9eedb",
   "metadata": {
    "papermill": {
     "duration": 0.010136,
     "end_time": "2024-12-12T11:37:57.891625",
     "exception": false,
     "start_time": "2024-12-12T11:37:57.881489",
     "status": "completed"
    },
    "tags": []
   },
   "source": [
    "# Modeling"
   ]
  },
  {
   "cell_type": "code",
   "execution_count": 21,
   "id": "beced7d0",
   "metadata": {
    "execution": {
     "iopub.execute_input": "2024-12-12T11:37:57.914505Z",
     "iopub.status.busy": "2024-12-12T11:37:57.914120Z",
     "iopub.status.idle": "2024-12-12T11:37:58.130517Z",
     "shell.execute_reply": "2024-12-12T11:37:58.129173Z"
    },
    "papermill": {
     "duration": 0.231132,
     "end_time": "2024-12-12T11:37:58.133593",
     "exception": false,
     "start_time": "2024-12-12T11:37:57.902461",
     "status": "completed"
    },
    "tags": []
   },
   "outputs": [],
   "source": [
    "#import libraries\n",
    "from sklearn.linear_model import LogisticRegression\n",
    "from sklearn.neighbors import KNeighborsClassifier\n",
    "from sklearn.naive_bayes import GaussianNB\n",
    "from sklearn.svm import SVC\n",
    "from sklearn.ensemble import RandomForestClassifier, ExtraTreesClassifier, BaggingClassifier, AdaBoostClassifier\n",
    "from xgboost import XGBClassifier\n",
    "from sklearn.model_selection import GridSearchCV, cross_val_score, StratifiedKFold\n",
    "from sklearn.metrics import accuracy_score, classification_report"
   ]
  },
  {
   "cell_type": "code",
   "execution_count": 22,
   "id": "0f797ea8",
   "metadata": {
    "execution": {
     "iopub.execute_input": "2024-12-12T11:37:58.156051Z",
     "iopub.status.busy": "2024-12-12T11:37:58.155589Z",
     "iopub.status.idle": "2024-12-12T11:37:58.164086Z",
     "shell.execute_reply": "2024-12-12T11:37:58.162582Z"
    },
    "papermill": {
     "duration": 0.022395,
     "end_time": "2024-12-12T11:37:58.166531",
     "exception": false,
     "start_time": "2024-12-12T11:37:58.144136",
     "status": "completed"
    },
    "tags": []
   },
   "outputs": [],
   "source": [
    "#Single Models\n",
    "models = {\n",
    "    'Logistic Regression':LogisticRegression(),\n",
    "    'KNN': KNeighborsClassifier(),\n",
    "    'Naive Bayes': GaussianNB(),\n",
    "    'SVM': SVC()\n",
    "}\n",
    "\n",
    "#Ensemble Models\n",
    "ensemble_model= {\n",
    "    'Random Forest':RandomForestClassifier(),\n",
    "    'Extra Trees':ExtraTreesClassifier(),\n",
    "    'Bagging':BaggingClassifier(),\n",
    "    'AdaBoost':AdaBoostClassifier(),\n",
    "    'XGB':XGBClassifier()\n",
    "    \n",
    "}\n",
    "\n",
    "#Hyperparameter for each model\n",
    "param = {\n",
    "    'Logistic Regression':{'C':[0.1,1,10]},\n",
    "    'KNN': {'n_neighbors':[3,5,7]},\n",
    "    'Naive Bayes': {},\n",
    "    'SVM': {'C':[0.1,1,10]},\n",
    "    'Random Forest':{'n_estimators':[50,100,200]},\n",
    "    'Extra Trees':{'n_estimators':[50,100,200]},\n",
    "    'Bagging':{'n_estimators':[10,20,30]},\n",
    "    'AdaBoost':{'n_estimators':[50,100,200]},\n",
    "    'XGB':{'n_estimators':[50,100,200],'learning_rate':[0.01,0.1,0.2]}\n",
    "}"
   ]
  },
  {
   "cell_type": "code",
   "execution_count": 23,
   "id": "5cfc9fe0",
   "metadata": {
    "execution": {
     "iopub.execute_input": "2024-12-12T11:37:58.189840Z",
     "iopub.status.busy": "2024-12-12T11:37:58.189431Z",
     "iopub.status.idle": "2024-12-12T11:37:58.195139Z",
     "shell.execute_reply": "2024-12-12T11:37:58.193680Z"
    },
    "papermill": {
     "duration": 0.020709,
     "end_time": "2024-12-12T11:37:58.197736",
     "exception": false,
     "start_time": "2024-12-12T11:37:58.177027",
     "status": "completed"
    },
    "tags": []
   },
   "outputs": [],
   "source": [
    "#cross validation \n",
    "cv= StratifiedKFold(n_splits=5, shuffle=True, random_state=0)"
   ]
  },
  {
   "cell_type": "code",
   "execution_count": 24,
   "id": "7daed1e8",
   "metadata": {
    "execution": {
     "iopub.execute_input": "2024-12-12T11:37:58.219900Z",
     "iopub.status.busy": "2024-12-12T11:37:58.219504Z",
     "iopub.status.idle": "2024-12-12T11:38:36.915386Z",
     "shell.execute_reply": "2024-12-12T11:38:36.913189Z"
    },
    "papermill": {
     "duration": 38.710288,
     "end_time": "2024-12-12T11:38:36.918355",
     "exception": false,
     "start_time": "2024-12-12T11:37:58.208067",
     "status": "completed"
    },
    "tags": []
   },
   "outputs": [
    {
     "name": "stderr",
     "output_type": "stream",
     "text": [
      "/opt/conda/lib/python3.10/site-packages/sklearn/linear_model/_logistic.py:458: ConvergenceWarning: lbfgs failed to converge (status=1):\n",
      "STOP: TOTAL NO. of ITERATIONS REACHED LIMIT.\n",
      "\n",
      "Increase the number of iterations (max_iter) or scale the data as shown in:\n",
      "    https://scikit-learn.org/stable/modules/preprocessing.html\n",
      "Please also refer to the documentation for alternative solver options:\n",
      "    https://scikit-learn.org/stable/modules/linear_model.html#logistic-regression\n",
      "  n_iter_i = _check_optimize_result(\n",
      "/opt/conda/lib/python3.10/site-packages/sklearn/linear_model/_logistic.py:458: ConvergenceWarning: lbfgs failed to converge (status=1):\n",
      "STOP: TOTAL NO. of ITERATIONS REACHED LIMIT.\n",
      "\n",
      "Increase the number of iterations (max_iter) or scale the data as shown in:\n",
      "    https://scikit-learn.org/stable/modules/preprocessing.html\n",
      "Please also refer to the documentation for alternative solver options:\n",
      "    https://scikit-learn.org/stable/modules/linear_model.html#logistic-regression\n",
      "  n_iter_i = _check_optimize_result(\n",
      "/opt/conda/lib/python3.10/site-packages/sklearn/linear_model/_logistic.py:458: ConvergenceWarning: lbfgs failed to converge (status=1):\n",
      "STOP: TOTAL NO. of ITERATIONS REACHED LIMIT.\n",
      "\n",
      "Increase the number of iterations (max_iter) or scale the data as shown in:\n",
      "    https://scikit-learn.org/stable/modules/preprocessing.html\n",
      "Please also refer to the documentation for alternative solver options:\n",
      "    https://scikit-learn.org/stable/modules/linear_model.html#logistic-regression\n",
      "  n_iter_i = _check_optimize_result(\n",
      "/opt/conda/lib/python3.10/site-packages/sklearn/linear_model/_logistic.py:458: ConvergenceWarning: lbfgs failed to converge (status=1):\n",
      "STOP: TOTAL NO. of ITERATIONS REACHED LIMIT.\n",
      "\n",
      "Increase the number of iterations (max_iter) or scale the data as shown in:\n",
      "    https://scikit-learn.org/stable/modules/preprocessing.html\n",
      "Please also refer to the documentation for alternative solver options:\n",
      "    https://scikit-learn.org/stable/modules/linear_model.html#logistic-regression\n",
      "  n_iter_i = _check_optimize_result(\n",
      "/opt/conda/lib/python3.10/site-packages/sklearn/linear_model/_logistic.py:458: ConvergenceWarning: lbfgs failed to converge (status=1):\n",
      "STOP: TOTAL NO. of ITERATIONS REACHED LIMIT.\n",
      "\n",
      "Increase the number of iterations (max_iter) or scale the data as shown in:\n",
      "    https://scikit-learn.org/stable/modules/preprocessing.html\n",
      "Please also refer to the documentation for alternative solver options:\n",
      "    https://scikit-learn.org/stable/modules/linear_model.html#logistic-regression\n",
      "  n_iter_i = _check_optimize_result(\n",
      "/opt/conda/lib/python3.10/site-packages/sklearn/linear_model/_logistic.py:458: ConvergenceWarning: lbfgs failed to converge (status=1):\n",
      "STOP: TOTAL NO. of ITERATIONS REACHED LIMIT.\n",
      "\n",
      "Increase the number of iterations (max_iter) or scale the data as shown in:\n",
      "    https://scikit-learn.org/stable/modules/preprocessing.html\n",
      "Please also refer to the documentation for alternative solver options:\n",
      "    https://scikit-learn.org/stable/modules/linear_model.html#logistic-regression\n",
      "  n_iter_i = _check_optimize_result(\n"
     ]
    },
    {
     "name": "stdout",
     "output_type": "stream",
     "text": [
      "Best parameter: {'C': 10} -- Best Score: 0.8360294117647058\n",
      "Best parameter: {'n_neighbors': 7} -- Best Score: 0.8180147058823529\n",
      "Best parameter: {} -- Best Score: 0.8246323529411764\n",
      "Best parameter: {'C': 0.1} -- Best Score: 0.8323529411764706\n",
      "Best parameter: {'n_estimators': 200} -- Best Score: 0.80625\n",
      "Best parameter: {'n_estimators': 200} -- Best Score: 0.7904411764705882\n",
      "Best parameter: {'n_estimators': 30} -- Best Score: 0.7944852941176471\n",
      "Best parameter: {'n_estimators': 200} -- Best Score: 0.8386029411764706\n",
      "Best parameter: {'learning_rate': 0.01, 'n_estimators': 100} -- Best Score: 0.8338235294117646\n"
     ]
    }
   ],
   "source": [
    "#Model Evaluation and Selection\n",
    "best_model = {}\n",
    "\n",
    "#single models for loop\n",
    "for name,model in models.items():\n",
    "    grid_search = GridSearchCV(model,param[name],cv=cv, scoring='accuracy')\n",
    "    grid_search.fit(X_train,y_train)\n",
    "    best_model[name] = grid_search.best_estimator_\n",
    "    print(f'Best parameter: {grid_search.best_params_} -- Best Score: {grid_search.best_score_}')\n",
    "\n",
    "#Ensemble models for loop\n",
    "for name,model in ensemble_model.items():\n",
    "    grid_search = GridSearchCV(model,param[name],cv=cv, scoring='accuracy')\n",
    "    grid_search.fit(X_train,y_train)\n",
    "    best_model[name] = grid_search.best_estimator_\n",
    "    print(f'Best parameter: {grid_search.best_params_} -- Best Score: {grid_search.best_score_}')"
   ]
  },
  {
   "cell_type": "markdown",
   "id": "286e653b",
   "metadata": {
    "papermill": {
     "duration": 0.011195,
     "end_time": "2024-12-12T11:38:36.940963",
     "exception": false,
     "start_time": "2024-12-12T11:38:36.929768",
     "status": "completed"
    },
    "tags": []
   },
   "source": [
    "# Evaluation"
   ]
  },
  {
   "cell_type": "code",
   "execution_count": 25,
   "id": "46c4b1ca",
   "metadata": {
    "execution": {
     "iopub.execute_input": "2024-12-12T11:38:36.966325Z",
     "iopub.status.busy": "2024-12-12T11:38:36.965916Z",
     "iopub.status.idle": "2024-12-12T11:38:37.374370Z",
     "shell.execute_reply": "2024-12-12T11:38:37.373023Z"
    },
    "papermill": {
     "duration": 0.424132,
     "end_time": "2024-12-12T11:38:37.376768",
     "exception": false,
     "start_time": "2024-12-12T11:38:36.952636",
     "status": "completed"
    },
    "tags": []
   },
   "outputs": [
    {
     "name": "stdout",
     "output_type": "stream",
     "text": [
      "---Logistic Regression---\n",
      "accuracy: 0.8220588235294117\n",
      "report:               precision    recall  f1-score   support\n",
      "\n",
      "           0       0.67      0.32      0.43       144\n",
      "           1       0.84      0.96      0.89       536\n",
      "\n",
      "    accuracy                           0.82       680\n",
      "   macro avg       0.75      0.64      0.66       680\n",
      "weighted avg       0.80      0.82      0.80       680\n",
      "\n",
      "---KNN---\n",
      "accuracy: 0.8117647058823529\n",
      "report:               precision    recall  f1-score   support\n",
      "\n",
      "           0       0.60      0.33      0.43       144\n",
      "           1       0.84      0.94      0.89       536\n",
      "\n",
      "    accuracy                           0.81       680\n",
      "   macro avg       0.72      0.64      0.66       680\n",
      "weighted avg       0.79      0.81      0.79       680\n",
      "\n",
      "---Naive Bayes---\n",
      "accuracy: 0.8132352941176471\n",
      "report:               precision    recall  f1-score   support\n",
      "\n",
      "           0       0.66      0.24      0.36       144\n",
      "           1       0.83      0.97      0.89       536\n",
      "\n",
      "    accuracy                           0.81       680\n",
      "   macro avg       0.74      0.60      0.62       680\n",
      "weighted avg       0.79      0.81      0.78       680\n",
      "\n",
      "---SVM---\n",
      "accuracy: 0.8220588235294117\n",
      "report:               precision    recall  f1-score   support\n",
      "\n",
      "           0       0.73      0.25      0.37       144\n",
      "           1       0.83      0.98      0.90       536\n",
      "\n",
      "    accuracy                           0.82       680\n",
      "   macro avg       0.78      0.61      0.63       680\n",
      "weighted avg       0.81      0.82      0.79       680\n",
      "\n",
      "---Random Forest---\n",
      "accuracy: 0.8014705882352942\n",
      "report:               precision    recall  f1-score   support\n",
      "\n",
      "           0       0.55      0.37      0.44       144\n",
      "           1       0.84      0.92      0.88       536\n",
      "\n",
      "    accuracy                           0.80       680\n",
      "   macro avg       0.70      0.64      0.66       680\n",
      "weighted avg       0.78      0.80      0.79       680\n",
      "\n",
      "---Extra Trees---\n",
      "accuracy: 0.7823529411764706\n",
      "report:               precision    recall  f1-score   support\n",
      "\n",
      "           0       0.48      0.40      0.44       144\n",
      "           1       0.85      0.88      0.86       536\n",
      "\n",
      "    accuracy                           0.78       680\n",
      "   macro avg       0.66      0.64      0.65       680\n",
      "weighted avg       0.77      0.78      0.77       680\n",
      "\n",
      "---Bagging---\n",
      "accuracy: 0.7897058823529411\n",
      "report:               precision    recall  f1-score   support\n",
      "\n",
      "           0       0.50      0.36      0.42       144\n",
      "           1       0.84      0.90      0.87       536\n",
      "\n",
      "    accuracy                           0.79       680\n",
      "   macro avg       0.67      0.63      0.65       680\n",
      "weighted avg       0.77      0.79      0.78       680\n",
      "\n",
      "---AdaBoost---\n",
      "accuracy: 0.825\n",
      "report:               precision    recall  f1-score   support\n",
      "\n",
      "           0       0.69      0.32      0.44       144\n",
      "           1       0.84      0.96      0.90       536\n",
      "\n",
      "    accuracy                           0.82       680\n",
      "   macro avg       0.76      0.64      0.67       680\n",
      "weighted avg       0.81      0.82      0.80       680\n",
      "\n",
      "---XGB---\n",
      "accuracy: 0.8264705882352941\n",
      "report:               precision    recall  f1-score   support\n",
      "\n",
      "           0       0.78      0.25      0.38       144\n",
      "           1       0.83      0.98      0.90       536\n",
      "\n",
      "    accuracy                           0.83       680\n",
      "   macro avg       0.81      0.62      0.64       680\n",
      "weighted avg       0.82      0.83      0.79       680\n",
      "\n"
     ]
    }
   ],
   "source": [
    "#Evaluate best model\n",
    "for name,model in best_model.items():\n",
    "    y_pred = model.predict(X_test)\n",
    "    accuracy = accuracy_score(y_test,y_pred)\n",
    "    report = classification_report(y_test,y_pred)\n",
    "    print(f'---{name}---')\n",
    "    print(f'accuracy: {accuracy}')\n",
    "    print(f'report: {report}')"
   ]
  },
  {
   "cell_type": "code",
   "execution_count": null,
   "id": "0f1214aa",
   "metadata": {
    "papermill": {
     "duration": 0.011017,
     "end_time": "2024-12-12T11:38:37.398885",
     "exception": false,
     "start_time": "2024-12-12T11:38:37.387868",
     "status": "completed"
    },
    "tags": []
   },
   "outputs": [],
   "source": []
  }
 ],
 "metadata": {
  "kaggle": {
   "accelerator": "none",
   "dataSources": [
    {
     "datasetId": 509824,
     "sourceId": 941304,
     "sourceType": "datasetVersion"
    }
   ],
   "dockerImageVersionId": 30804,
   "isGpuEnabled": false,
   "isInternetEnabled": true,
   "language": "python",
   "sourceType": "notebook"
  },
  "kernelspec": {
   "display_name": "Python 3",
   "language": "python",
   "name": "python3"
  },
  "language_info": {
   "codemirror_mode": {
    "name": "ipython",
    "version": 3
   },
   "file_extension": ".py",
   "mimetype": "text/x-python",
   "name": "python",
   "nbconvert_exporter": "python",
   "pygments_lexer": "ipython3",
   "version": "3.10.14"
  },
  "papermill": {
   "default_parameters": {},
   "duration": 51.221237,
   "end_time": "2024-12-12T11:38:38.132259",
   "environment_variables": {},
   "exception": null,
   "input_path": "__notebook__.ipynb",
   "output_path": "__notebook__.ipynb",
   "parameters": {},
   "start_time": "2024-12-12T11:37:46.911022",
   "version": "2.6.0"
  }
 },
 "nbformat": 4,
 "nbformat_minor": 5
}
